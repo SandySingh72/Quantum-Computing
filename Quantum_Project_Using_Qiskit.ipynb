{
  "nbformat": 4,
  "nbformat_minor": 0,
  "metadata": {
    "colab": {
      "provenance": []
    },
    "kernelspec": {
      "name": "python3",
      "display_name": "Python 3"
    },
    "language_info": {
      "name": "python"
    }
  },
  "cells": [
    {
      "cell_type": "markdown",
      "source": [
        "# **My First Quantum Project Using Qiskit**"
      ],
      "metadata": {
        "id": "a5UnJgnFcjr9"
      }
    },
    {
      "cell_type": "markdown",
      "source": [
        "**Step - 1: Install Qiskit & Check Installation**"
      ],
      "metadata": {
        "id": "dBU4VYhkc1S8"
      }
    },
    {
      "cell_type": "code",
      "source": [
        "!pip install qiskit"
      ],
      "metadata": {
        "colab": {
          "base_uri": "https://localhost:8080/"
        },
        "collapsed": true,
        "id": "niuiC_5oeLR9",
        "outputId": "a6d50bda-743b-4e2c-d3ec-6d55791e45e8"
      },
      "execution_count": null,
      "outputs": [
        {
          "output_type": "stream",
          "name": "stdout",
          "text": [
            "Collecting qiskit\n",
            "  Downloading qiskit-2.1.2-cp39-abi3-manylinux_2_17_x86_64.manylinux2014_x86_64.whl.metadata (12 kB)\n",
            "Collecting rustworkx>=0.15.0 (from qiskit)\n",
            "  Downloading rustworkx-0.17.1-cp39-abi3-manylinux_2_17_x86_64.manylinux2014_x86_64.whl.metadata (10 kB)\n",
            "Requirement already satisfied: numpy<3,>=1.17 in /usr/local/lib/python3.12/dist-packages (from qiskit) (2.0.2)\n",
            "Requirement already satisfied: scipy>=1.5 in /usr/local/lib/python3.12/dist-packages (from qiskit) (1.16.1)\n",
            "Requirement already satisfied: dill>=0.3 in /usr/local/lib/python3.12/dist-packages (from qiskit) (0.3.8)\n",
            "Collecting stevedore>=3.0.0 (from qiskit)\n",
            "  Downloading stevedore-5.5.0-py3-none-any.whl.metadata (2.2 kB)\n",
            "Requirement already satisfied: typing-extensions in /usr/local/lib/python3.12/dist-packages (from qiskit) (4.15.0)\n",
            "Downloading qiskit-2.1.2-cp39-abi3-manylinux_2_17_x86_64.manylinux2014_x86_64.whl (7.4 MB)\n",
            "\u001b[2K   \u001b[90m━━━━━━━━━━━━━━━━━━━━━━━━━━━━━━━━━━━━━━━━\u001b[0m \u001b[32m7.4/7.4 MB\u001b[0m \u001b[31m76.3 MB/s\u001b[0m eta \u001b[36m0:00:00\u001b[0m\n",
            "\u001b[?25hDownloading rustworkx-0.17.1-cp39-abi3-manylinux_2_17_x86_64.manylinux2014_x86_64.whl (2.2 MB)\n",
            "\u001b[2K   \u001b[90m━━━━━━━━━━━━━━━━━━━━━━━━━━━━━━━━━━━━━━━━\u001b[0m \u001b[32m2.2/2.2 MB\u001b[0m \u001b[31m69.4 MB/s\u001b[0m eta \u001b[36m0:00:00\u001b[0m\n",
            "\u001b[?25hDownloading stevedore-5.5.0-py3-none-any.whl (49 kB)\n",
            "\u001b[2K   \u001b[90m━━━━━━━━━━━━━━━━━━━━━━━━━━━━━━━━━━━━━━━━\u001b[0m \u001b[32m49.5/49.5 kB\u001b[0m \u001b[31m3.3 MB/s\u001b[0m eta \u001b[36m0:00:00\u001b[0m\n",
            "\u001b[?25hInstalling collected packages: stevedore, rustworkx, qiskit\n",
            "Successfully installed qiskit-2.1.2 rustworkx-0.17.1 stevedore-5.5.0\n"
          ]
        }
      ]
    },
    {
      "cell_type": "code",
      "source": [
        "import qiskit\n",
        "print(\"Qiskit installed successfully!\")\n",
        "print(\"Qiskit version:\", qiskit.__version__)"
      ],
      "metadata": {
        "colab": {
          "base_uri": "https://localhost:8080/"
        },
        "id": "B0UeTMi1emAk",
        "outputId": "53cb5b15-59f1-4649-b3c6-23aab38c9ef0"
      },
      "execution_count": null,
      "outputs": [
        {
          "output_type": "stream",
          "name": "stdout",
          "text": [
            "Qiskit installed successfully!\n",
            "Qiskit version: 2.1.2\n"
          ]
        }
      ]
    },
    {
      "cell_type": "markdown",
      "source": [
        "**Step - 2: Install Qiskit Simulator & Check Installation**"
      ],
      "metadata": {
        "id": "YTXjTUMEgmLJ"
      }
    },
    {
      "cell_type": "code",
      "execution_count": null,
      "metadata": {
        "colab": {
          "base_uri": "https://localhost:8080/"
        },
        "collapsed": true,
        "id": "iyGX5xnqcQo-",
        "outputId": "1cd752e5-3b46-44ef-a031-e1dd68031803"
      },
      "outputs": [
        {
          "output_type": "stream",
          "name": "stdout",
          "text": [
            "Requirement already satisfied: qiskit in /usr/local/lib/python3.12/dist-packages (2.1.2)\n",
            "Collecting qiskit-aer\n",
            "  Downloading qiskit_aer-0.17.1-cp312-cp312-manylinux_2_17_x86_64.manylinux2014_x86_64.whl.metadata (8.3 kB)\n",
            "Requirement already satisfied: rustworkx>=0.15.0 in /usr/local/lib/python3.12/dist-packages (from qiskit) (0.17.1)\n",
            "Requirement already satisfied: numpy<3,>=1.17 in /usr/local/lib/python3.12/dist-packages (from qiskit) (2.0.2)\n",
            "Requirement already satisfied: scipy>=1.5 in /usr/local/lib/python3.12/dist-packages (from qiskit) (1.16.1)\n",
            "Requirement already satisfied: dill>=0.3 in /usr/local/lib/python3.12/dist-packages (from qiskit) (0.3.8)\n",
            "Requirement already satisfied: stevedore>=3.0.0 in /usr/local/lib/python3.12/dist-packages (from qiskit) (5.5.0)\n",
            "Requirement already satisfied: typing-extensions in /usr/local/lib/python3.12/dist-packages (from qiskit) (4.15.0)\n",
            "Requirement already satisfied: psutil>=5 in /usr/local/lib/python3.12/dist-packages (from qiskit-aer) (5.9.5)\n",
            "Requirement already satisfied: python-dateutil>=2.8.0 in /usr/local/lib/python3.12/dist-packages (from qiskit-aer) (2.9.0.post0)\n",
            "Requirement already satisfied: six>=1.5 in /usr/local/lib/python3.12/dist-packages (from python-dateutil>=2.8.0->qiskit-aer) (1.17.0)\n",
            "Downloading qiskit_aer-0.17.1-cp312-cp312-manylinux_2_17_x86_64.manylinux2014_x86_64.whl (12.4 MB)\n",
            "\u001b[2K   \u001b[90m━━━━━━━━━━━━━━━━━━━━━━━━━━━━━━━━━━━━━━━━\u001b[0m \u001b[32m12.4/12.4 MB\u001b[0m \u001b[31m57.5 MB/s\u001b[0m eta \u001b[36m0:00:00\u001b[0m\n",
            "\u001b[?25hInstalling collected packages: qiskit-aer\n",
            "Successfully installed qiskit-aer-0.17.1\n"
          ]
        }
      ],
      "source": [
        "!pip install qiskit qiskit-aer"
      ]
    },
    {
      "cell_type": "code",
      "source": [
        "import qiskit\n",
        "from qiskit_aer import Aer\n",
        "\n",
        "print(\"Qiskit version:\", qiskit.__version__)\n",
        "print(\"Aer backends available:\", Aer.backends())"
      ],
      "metadata": {
        "colab": {
          "base_uri": "https://localhost:8080/"
        },
        "id": "Gvz4z5lHfzxW",
        "outputId": "a44608e3-26be-4fa1-8c3a-4af013b443fb"
      },
      "execution_count": null,
      "outputs": [
        {
          "output_type": "stream",
          "name": "stdout",
          "text": [
            "Qiskit version: 2.1.2\n",
            "Aer backends available: [AerSimulator('aer_simulator'), AerSimulator('aer_simulator_statevector'), AerSimulator('aer_simulator_density_matrix'), AerSimulator('aer_simulator_stabilizer'), AerSimulator('aer_simulator_matrix_product_state'), AerSimulator('aer_simulator_extended_stabilizer'), AerSimulator('aer_simulator_unitary'), AerSimulator('aer_simulator_superop'), QasmSimulator('qasm_simulator'), StatevectorSimulator('statevector_simulator'), UnitarySimulator('unitary_simulator')]\n"
          ]
        }
      ]
    },
    {
      "cell_type": "markdown",
      "source": [
        "**Step - 3: Import Files from Qiskit**"
      ],
      "metadata": {
        "id": "Wr1QNdDjg8uK"
      }
    },
    {
      "cell_type": "code",
      "source": [
        "from qiskit import QuantumCircuit"
      ],
      "metadata": {
        "id": "TXHlTXMMhK5y"
      },
      "execution_count": null,
      "outputs": []
    },
    {
      "cell_type": "markdown",
      "source": [
        "**Step - 4: Create a 1-qubit quantum circuit & Define Various Gates**"
      ],
      "metadata": {
        "id": "vAEe5TXwdP4f"
      }
    },
    {
      "cell_type": "code",
      "source": [
        "qc = QuantumCircuit(1)\n",
        "\n",
        "qc.x(0)   # Pauli-X gate (NOT gate)\n",
        "qc.h(0)   # Hadamard gate\n",
        "qc.z(0)   # Pauli-Z gate"
      ],
      "metadata": {
        "colab": {
          "base_uri": "https://localhost:8080/"
        },
        "id": "x-W0dPBOdoZ5",
        "outputId": "98cc335c-bfb6-4bc8-b10d-d1e9eb573135"
      },
      "execution_count": null,
      "outputs": [
        {
          "output_type": "execute_result",
          "data": {
            "text/plain": [
              "<qiskit.circuit.instructionset.InstructionSet at 0x7e5d941ab490>"
            ]
          },
          "metadata": {},
          "execution_count": 6
        }
      ]
    },
    {
      "cell_type": "markdown",
      "source": [
        "**Step - 5: Install Pylatexenc & Draw Gates**"
      ],
      "metadata": {
        "id": "_6GtH9x2kpfw"
      }
    },
    {
      "cell_type": "code",
      "source": [
        "!pip install pylatexenc"
      ],
      "metadata": {
        "colab": {
          "base_uri": "https://localhost:8080/"
        },
        "id": "aPyCnpe7iThA",
        "outputId": "5d4489ee-4deb-4ef2-e53d-b474c42e458b"
      },
      "execution_count": null,
      "outputs": [
        {
          "output_type": "stream",
          "name": "stdout",
          "text": [
            "Collecting pylatexenc\n",
            "  Downloading pylatexenc-2.10.tar.gz (162 kB)\n",
            "\u001b[?25l     \u001b[90m━━━━━━━━━━━━━━━━━━━━━━━━━━━━━━━━━━━━━━━━\u001b[0m \u001b[32m0.0/162.6 kB\u001b[0m \u001b[31m?\u001b[0m eta \u001b[36m-:--:--\u001b[0m\r\u001b[2K     \u001b[90m━━━━━━━━━━━━━━━━━━━━━━━━━━━━━━━━━━━━━━━\u001b[0m \u001b[32m162.6/162.6 kB\u001b[0m \u001b[31m6.8 MB/s\u001b[0m eta \u001b[36m0:00:00\u001b[0m\n",
            "\u001b[?25h  Preparing metadata (setup.py) ... \u001b[?25l\u001b[?25hdone\n",
            "Building wheels for collected packages: pylatexenc\n",
            "  Building wheel for pylatexenc (setup.py) ... \u001b[?25l\u001b[?25hdone\n",
            "  Created wheel for pylatexenc: filename=pylatexenc-2.10-py3-none-any.whl size=136817 sha256=7ce073e83401f43b283fe96e5cab3638176ca9b03708b09767267bff380d6aff\n",
            "  Stored in directory: /root/.cache/pip/wheels/06/3e/78/fa1588c1ae991bbfd814af2bcac6cef7a178beee1939180d46\n",
            "Successfully built pylatexenc\n",
            "Installing collected packages: pylatexenc\n",
            "Successfully installed pylatexenc-2.10\n"
          ]
        }
      ]
    },
    {
      "cell_type": "code",
      "source": [
        "qc.draw(\"mpl\")"
      ],
      "metadata": {
        "colab": {
          "base_uri": "https://localhost:8080/",
          "height": 127
        },
        "id": "zDWMRhlPiay1",
        "outputId": "dd93c4bb-dcbf-42d7-fde8-6d4b1b110639"
      },
      "execution_count": null,
      "outputs": [
        {
          "output_type": "execute_result",
          "data": {
            "text/plain": [
              "<Figure size 352.675x117.056 with 1 Axes>"
            ],
            "image/png": "[encoded data removed]"
          },
          "metadata": {},
          "execution_count": 8
        }
      ]
    },
    {
      "cell_type": "markdown",
      "source": [
        "A single-qubit circuit applying X → H → Z in sequence."
      ],
      "metadata": {
        "id": "d6cf6tN3mICM"
      }
    },
    {
      "cell_type": "markdown",
      "source": [
        "**Step - 6: Draw CNOT Circuit with Two Qubit**"
      ],
      "metadata": {
        "id": "q2lEVB0EdwrV"
      }
    },
    {
      "cell_type": "code",
      "source": [
        "from qiskit import QuantumCircuit\n",
        "\n",
        "# 2-qubit circuit\n",
        "qc2 = QuantumCircuit(2)\n",
        "\n",
        "qc2.x(0)         # Apply X to qubit 0 (control qubit)\n",
        "qc2.cx(0, 1)     # Apply CNOT (control=0, target=1)\n",
        "\n",
        "qc2.measure_all()\n",
        "\n",
        "qc2.draw(\"mpl\")\n"
      ],
      "metadata": {
        "colab": {
          "base_uri": "https://localhost:8080/",
          "height": 255
        },
        "id": "os4ulSJqjo1e",
        "outputId": "d492a523-af1a-4c4b-908a-aca65dcffec4"
      },
      "execution_count": null,
      "outputs": [
        {
          "output_type": "execute_result",
          "data": {
            "text/plain": [
              "<Figure size 580.387x284.278 with 1 Axes>"
            ],
            "image/png": "[encoded data removed]"
          },
          "metadata": {},
          "execution_count": 9
        }
      ]
    },
    {
      "cell_type": "markdown",
      "source": [
        "The CNOT circuit:\n",
        "\n",
        "Qubit q0 (top wire) is flipped with X → it becomes |1⟩.\n",
        "\n",
        "Then CNOT flips q1 because the control (q0) = 1.\n",
        "\n",
        "Both are measured → final state should be |11⟩ almost always."
      ],
      "metadata": {
        "id": "SR1xk9IUmR53"
      }
    },
    {
      "cell_type": "markdown",
      "source": [
        "**Step - 7: Simulate the CNOT Circuit**"
      ],
      "metadata": {
        "id": "W7Z_SJcQl5jH"
      }
    },
    {
      "cell_type": "code",
      "source": [
        "from qiskit_aer import AerSimulator\n",
        "from qiskit import transpile\n",
        "from qiskit.visualization import plot_histogram\n",
        "\n",
        "# Simulator\n",
        "sim = AerSimulator()\n",
        "\n",
        "# Transpile and run\n",
        "tqc2 = transpile(qc2, sim)\n",
        "result2 = sim.run(tqc2, shots=1000).result()\n",
        "counts2 = result2.get_counts()\n",
        "\n",
        "print(\"CNOT Circuit Results:\", counts2)\n",
        "plot_histogram(counts2)\n"
      ],
      "metadata": {
        "colab": {
          "base_uri": "https://localhost:8080/",
          "height": 504
        },
        "id": "hKxLyCmnj5FE",
        "outputId": "94460004-3dd6-4939-99b5-9f4d54584c76"
      },
      "execution_count": null,
      "outputs": [
        {
          "output_type": "stream",
          "name": "stdout",
          "text": [
            "CNOT Circuit Results: {'11': 1000}\n"
          ]
        },
        {
          "output_type": "execute_result",
          "data": {
            "text/plain": [
              "<Figure size 640x480 with 1 Axes>"
            ],
            "image/png": "[encoded data removed]"
          },
          "metadata": {},
          "execution_count": 10
        }
      ]
    },
    {
      "cell_type": "markdown",
      "source": [
        "The histogram shows 100% probability for '11'."
      ],
      "metadata": {
        "id": "nQUyMY01mvcb"
      }
    },
    {
      "cell_type": "markdown",
      "source": [
        "**Step - 7 Bell State Circuit**"
      ],
      "metadata": {
        "id": "xE0KXcUp7M24"
      }
    },
    {
      "cell_type": "markdown",
      "source": [
        "The Bell state is created by putting the first qubit into superposition (with H) and then entangling it with the second qubit (with CNOT)."
      ],
      "metadata": {
        "id": "SSlpZhJe7YQD"
      }
    },
    {
      "cell_type": "code",
      "source": [
        "from qiskit import QuantumCircuit\n",
        "\n",
        "# 2-qubit Bell state circuit\n",
        "bell = QuantumCircuit(2)\n",
        "\n",
        "bell.h(0)        # Put q0 into superposition\n",
        "bell.cx(0, 1)    # Entangle q0 with q1\n",
        "bell.measure_all()\n",
        "\n",
        "bell.draw(\"mpl\")"
      ],
      "metadata": {
        "colab": {
          "base_uri": "https://localhost:8080/",
          "height": 255
        },
        "id": "3d32J41y7ca7",
        "outputId": "8f00482d-5276-4a5c-ddaa-9161068ecd41"
      },
      "execution_count": null,
      "outputs": [
        {
          "output_type": "execute_result",
          "data": {
            "text/plain": [
              "<Figure size 580.387x284.278 with 1 Axes>"
            ],
            "image/png": "[encoded data removed]"
          },
          "metadata": {},
          "execution_count": 11
        }
      ]
    },
    {
      "cell_type": "markdown",
      "source": [
        "**Step - 8 Simulate Bell State**"
      ],
      "metadata": {
        "id": "PIMmCCNN7nDu"
      }
    },
    {
      "cell_type": "markdown",
      "source": [
        "Expected output: roughly 50% |00⟩ and 50% |11⟩,"
      ],
      "metadata": {
        "id": "GfD5aYbZ8AY3"
      }
    },
    {
      "cell_type": "code",
      "source": [
        "# Transpile and run\n",
        "tbell = transpile(bell, sim)\n",
        "result_bell = sim.run(tbell, shots=1000).result()\n",
        "counts_bell = result_bell.get_counts()\n",
        "\n",
        "print(\"Bell State Results:\", counts_bell)\n",
        "plot_histogram(counts_bell)"
      ],
      "metadata": {
        "colab": {
          "base_uri": "https://localhost:8080/",
          "height": 504
        },
        "id": "hmqJCOLC7zle",
        "outputId": "aec4adb9-bfd8-4814-fcb3-393225a57430"
      },
      "execution_count": null,
      "outputs": [
        {
          "output_type": "stream",
          "name": "stdout",
          "text": [
            "Bell State Results: {'00': 477, '11': 523}\n"
          ]
        },
        {
          "output_type": "execute_result",
          "data": {
            "text/plain": [
              "<Figure size 640x480 with 1 Axes>"
            ],
            "image/png": "[encoded data removed]"
          },
          "metadata": {},
          "execution_count": 12
        }
      ]
    },
    {
      "cell_type": "markdown",
      "source": [
        "END OF PROJECT"
      ],
      "metadata": {
        "id": "a6wbIyp38LhF"
      }
    }
  ]
}